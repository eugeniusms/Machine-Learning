{
 "cells": [
  {
   "cell_type": "code",
   "execution_count": 2,
   "metadata": {},
   "outputs": [
    {
     "data": {
      "text/plain": [
       "DecisionTreeRegressor()"
      ]
     },
     "execution_count": 2,
     "metadata": {},
     "output_type": "execute_result"
    }
   ],
   "source": [
    "# Data Loading Code Hidden Here\n",
    "import pandas as pd\n",
    "\n",
    "# Load data\n",
    "melbourne_file_path = 'melb_data.csv'\n",
    "melbourne_data = pd.read_csv(melbourne_file_path) \n",
    "# Filter rows with missing price values\n",
    "filtered_melbourne_data = melbourne_data.dropna(axis=0)\n",
    "# Choose target and features\n",
    "y = filtered_melbourne_data.Price\n",
    "melbourne_features = ['Rooms', 'Bathroom', 'Landsize', 'BuildingArea', \n",
    "                        'YearBuilt', 'Lattitude', 'Longtitude']\n",
    "X = filtered_melbourne_data[melbourne_features]\n",
    "\n",
    "from sklearn.tree import DecisionTreeRegressor\n",
    "# Define model\n",
    "melbourne_model = DecisionTreeRegressor()\n",
    "# Fit model\n",
    "melbourne_model.fit(X, y)"
   ]
  },
  {
   "cell_type": "code",
   "execution_count": 3,
   "metadata": {},
   "outputs": [
    {
     "data": {
      "text/plain": [
       "434.71594577146544"
      ]
     },
     "execution_count": 3,
     "metadata": {},
     "output_type": "execute_result"
    }
   ],
   "source": [
    "# Once we have a model, here is how we calculate the mean absolute error:\n",
    "from sklearn.metrics import mean_absolute_error\n",
    "\n",
    "predicted_home_prices = melbourne_model.predict(X)\n",
    "mean_absolute_error(y, predicted_home_prices)"
   ]
  },
  {
   "cell_type": "markdown",
   "metadata": {},
   "source": [
    "The Problem with \"In-Sample\" Scores\n",
    "The measure we just computed can be called an \"in-sample\" score. We used a single \"sample\" of houses for both building the model and evaluating it. Here's why this is bad.\n",
    "\n",
    "Imagine that, in the large real estate market, door color is unrelated to home price.\n",
    "\n",
    "However, in the sample of data you used to build the model, all homes with green doors were very expensive. The model's job is to find patterns that predict home prices, so it will see this pattern, and it will always predict high prices for homes with green doors.\n",
    "\n",
    "Since this pattern was derived from the training data, the model will appear accurate in the training data.\n",
    "\n",
    "But if this pattern doesn't hold when the model sees new data, the model would be very inaccurate when used in practice.\n",
    "\n",
    "Since models' practical value come from making predictions on new data, we measure performance on data that wasn't used to build the model. The most straightforward way to do this is to exclude some data from the model-building process, and then use those to test the model's accuracy on data it hasn't seen before. This data is called validation data."
   ]
  },
  {
   "cell_type": "code",
   "execution_count": 7,
   "metadata": {},
   "outputs": [
    {
     "name": "stdout",
     "output_type": "stream",
     "text": [
      "       Rooms  Bathroom  Landsize  BuildingArea  YearBuilt  Lattitude  \\\n",
      "10385      3       1.0     206.0         110.0     1980.0  -37.87107   \n",
      "5805       2       1.0       0.0          73.0     2000.0  -37.85900   \n",
      "8488       2       1.0    2701.0          79.0     2011.0  -37.81090   \n",
      "6672       3       1.0     670.0         116.0     1940.0  -37.81340   \n",
      "776        6       3.0     708.0         275.0     1988.0  -37.91810   \n",
      "...      ...       ...       ...           ...        ...        ...   \n",
      "9510       3       1.0     118.0         177.0     1890.0  -37.81351   \n",
      "6023       5       2.0     661.0         133.0     1960.0  -37.76510   \n",
      "2960       4       2.0     453.0         213.0     2007.0  -37.70160   \n",
      "4729       2       1.0      90.0         106.0     2007.0  -37.83570   \n",
      "4996       3       1.0     495.0         100.0     1950.0  -37.75210   \n",
      "\n",
      "       Longtitude  \n",
      "10385   145.04991  \n",
      "5805    144.97670  \n",
      "8488    144.86840  \n",
      "6672    144.87450  \n",
      "776     145.04400  \n",
      "...           ...  \n",
      "9510    144.98804  \n",
      "6023    144.82410  \n",
      "2960    144.89740  \n",
      "4729    144.93760  \n",
      "4996    145.01140  \n",
      "\n",
      "[4647 rows x 7 columns]\n",
      "       Rooms  Bathroom  Landsize  BuildingArea  YearBuilt  Lattitude  \\\n",
      "4850       2       1.0      96.0          71.0     1880.0  -37.85010   \n",
      "2307       2       1.0       0.0          70.0     1965.0  -37.89020   \n",
      "10090      2       1.0     136.0          58.0     1892.0  -37.85542   \n",
      "3645       3       2.0     205.0         184.0     1995.0  -37.79930   \n",
      "4930       2       1.0     400.0          88.0     1955.0  -37.73520   \n",
      "...      ...       ...       ...           ...        ...        ...   \n",
      "8223       2       1.0       0.0          82.0     2011.0  -37.73240   \n",
      "11190      3       2.0     590.0         151.0     1981.0  -37.89628   \n",
      "8563       1       1.0    1175.0          35.0     1970.0  -37.78490   \n",
      "1867       2       1.0     585.0          97.0     1950.0  -37.87920   \n",
      "8375       2       2.0     208.0         145.0     1880.0  -37.84330   \n",
      "\n",
      "       Longtitude  \n",
      "4850    144.99530  \n",
      "2307    144.99070  \n",
      "10090   144.99571  \n",
      "3645    145.02670  \n",
      "4930    144.98520  \n",
      "...           ...  \n",
      "8223    144.93770  \n",
      "11190   145.22294  \n",
      "8563    144.82720  \n",
      "1867    145.09480  \n",
      "8375    145.00240  \n",
      "\n",
      "[1549 rows x 7 columns]\n",
      "10385    1060000.0\n",
      "5805      390000.0\n",
      "8488      502000.0\n",
      "6672     1055000.0\n",
      "776      1900000.0\n",
      "           ...    \n",
      "9510     1875000.0\n",
      "6023      605000.0\n",
      "2960      709000.0\n",
      "4729     1000000.0\n",
      "4996      890000.0\n",
      "Name: Price, Length: 4647, dtype: float64\n",
      "4850      815000.0\n",
      "2307      655000.0\n",
      "10090     957500.0\n",
      "3645     1330000.0\n",
      "4930      722000.0\n",
      "           ...    \n",
      "8223      520000.0\n",
      "11190     870000.0\n",
      "8563      200000.0\n",
      "1867     1002000.0\n",
      "8375     1710000.0\n",
      "Name: Price, Length: 1549, dtype: float64\n",
      "MEAN ABSOLUTE ERROR :  261375.29761136216\n"
     ]
    }
   ],
   "source": [
    "\"\"\"\n",
    "The scikit-learn library has a function train_test_split to break up the data into two pieces. \n",
    "We'll use some of that data as training data to fit the model, and we'll use the other data as validation data \n",
    "to calculate mean_absolute_error.\n",
    "\"\"\"\n",
    "from sklearn.model_selection import train_test_split\n",
    "\n",
    "# split data into training and validation data, for both features and target\n",
    "# The split is based on a random number generator. Supplying a numeric value to\n",
    "# the random_state argument guarantees we get the same split every time we\n",
    "# run this script.\n",
    "train_X, val_X, train_y, val_y = train_test_split(X, y, random_state = 0)\n",
    "print(train_X)\n",
    "print(val_X)\n",
    "print(train_y)\n",
    "print(val_y)\n",
    "# Define model\n",
    "melbourne_model = DecisionTreeRegressor()\n",
    "# Fit model\n",
    "melbourne_model.fit(train_X, train_y)\n",
    "\n",
    "# get predicted prices on validation data\n",
    "val_predictions = melbourne_model.predict(val_X)\n",
    "print(\"MEAN ABSOLUTE ERROR : \",mean_absolute_error(val_y, val_predictions))\n"
   ]
  }
 ],
 "metadata": {
  "interpreter": {
   "hash": "efd98b15e5a9c1183a65cccf5785cc55820788f7aa8794562cd6ea4593286d6f"
  },
  "kernelspec": {
   "display_name": "Python 3.9.7 64-bit ('base': conda)",
   "language": "python",
   "name": "python3"
  },
  "language_info": {
   "codemirror_mode": {
    "name": "ipython",
    "version": 3
   },
   "file_extension": ".py",
   "mimetype": "text/x-python",
   "name": "python",
   "nbconvert_exporter": "python",
   "pygments_lexer": "ipython3",
   "version": "3.9.7"
  },
  "orig_nbformat": 4
 },
 "nbformat": 4,
 "nbformat_minor": 2
}
